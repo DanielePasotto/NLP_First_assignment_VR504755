{
 "cells": [
  {
   "cell_type": "code",
   "execution_count": null,
   "id": "ca47b311",
   "metadata": {},
   "outputs": [],
   "source": [
    "import wikipediaapi as wiki_api\n",
    "import wikipedia\n",
    "\n",
    "wiki_wiki = wiki_api.Wikipedia(user_agent = \"MyProject (prova@example.com)\", language = \"en\", extract_format = wiki_api.ExtractFormat.WIKI)\n",
    "\n",
    "'''\n",
    "i = 1\n",
    "\n",
    "for items in wikipedia.search(\"medical\", results = 500):\n",
    "    with open('corpora/medical/med_' + str(i) + '.txt', 'w', encoding='utf-8') as file:\n",
    "        file.write(wiki_wiki.page(items).text.lower())\n",
    "    i += 1\n",
    "'''\n",
    "\n",
    "i = 1\n",
    "for items in wikipedia.search(\"car\", results = 100):\n",
    "    with open('corpora/other/other_' + str(i) + '.txt', 'w', encoding='utf-8') as file:\n",
    "        file.write(wiki_wiki.page(items).text.lower())\n",
    "    i += 1\n",
    "    \n",
    "for items in wikipedia.search(\"artificial intelligence\", results = 100):\n",
    "    with open('corpora/other/other_' + str(i) + '.txt', 'w', encoding='utf-8') as file:\n",
    "        file.write(wiki_wiki.page(items).text.lower())\n",
    "    i += 1\n",
    "        \n",
    "for items in wikipedia.search(\"geography\", results = 100):\n",
    "    with open('corpora/other/other_' + str(i) + '.txt', 'w', encoding='utf-8') as file:\n",
    "        file.write(wiki_wiki.page(items).text.lower())\n",
    "    i += 1\n",
    "    \n",
    "for items in wikipedia.search(\"catholic\", results = 100):\n",
    "    with open('corpora/other/other_' + str(i) + '.txt', 'w', encoding='utf-8') as file:\n",
    "        file.write(wiki_wiki.page(items).text.lower())\n",
    "    i += 1\n",
    "        \n",
    "for items in wikipedia.search(\"videogame\", results = 100):\n",
    "    with open('corpora/other/other_' + str(i) + '.txt', 'w', encoding='utf-8') as file:\n",
    "        file.write(wiki_wiki.page(items).text.lower())\n",
    "    i += 1\n",
    "    \n",
    "print(\"The corpora is created correctly!\")\n",
    "            "
   ]
  }
 ],
 "metadata": {
  "kernelspec": {
   "display_name": "Python 3 (ipykernel)",
   "language": "python",
   "name": "python3"
  },
  "language_info": {
   "codemirror_mode": {
    "name": "ipython",
    "version": 3
   },
   "file_extension": ".py",
   "mimetype": "text/x-python",
   "name": "python",
   "nbconvert_exporter": "python",
   "pygments_lexer": "ipython3",
   "version": "3.11.5"
  }
 },
 "nbformat": 4,
 "nbformat_minor": 5
}
